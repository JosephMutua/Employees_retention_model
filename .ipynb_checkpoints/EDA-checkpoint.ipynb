{
 "cells": [
  {
   "cell_type": "markdown",
   "metadata": {},
   "source": [
    "# The model that we are going to use is the scrip-DM.\n",
    "1. Business problem understanding.\n",
    "2. Data understanding (EDA).\n",
    "3. Data preprocessing. \n",
    "4. Model building.\n",
    "5. Model deployment."
   ]
  },
  {
   "cell_type": "markdown",
   "metadata": {},
   "source": [
    "# Problem understanding.\n",
    "The business problem is to help an HR department to retain an organization's employees. THis is because employee retention helps increaseing productivity of the overall organization. "
   ]
  }
 ],
 "metadata": {
  "kernelspec": {
   "display_name": "Python 3",
   "language": "python",
   "name": "python3"
  },
  "language_info": {
   "codemirror_mode": {
    "name": "ipython",
    "version": 3
   },
   "file_extension": ".py",
   "mimetype": "text/x-python",
   "name": "python",
   "nbconvert_exporter": "python",
   "pygments_lexer": "ipython3",
   "version": "3.8.5"
  }
 },
 "nbformat": 4,
 "nbformat_minor": 4
}
